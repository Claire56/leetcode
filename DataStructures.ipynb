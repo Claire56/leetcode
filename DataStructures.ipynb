{
 "cells": [
  {
   "cell_type": "markdown",
   "metadata": {},
   "source": [
    "## Impliment a hash map:\n",
    "* a dict has O(1) time for indexing & adding\n",
    "* when you add an item to a hashmap e.g dict{'apple':'red}\n",
    "* python hashes apple to get a key// hash(apple) =>1234 //\n",
    "* it builds an array longer than length of dictionary\n",
    "* then uses part of the keys from the hashes as index to store values in our case value of apple. for example it might choose 3 and then store red at index 3\n",
    "* once the array is 66% full it grows array & uses more of key to index\n",
    "#### Sets use hashmap to store values\n",
    "By the way if you want to randomly remove an item from a set use the pop()method, if yu wanna be specific use the remove(item)\n",
    "#### python uses Hashmap to create a dictionary\n",
    "\n",
    "## Performance Characteristics\n",
    "## Data Structure\t    Get\t|Set\t|Delete\t|Ordered Keys|\tMemory\n",
    "## Dictionary (HashM)O(1)|O(1)\t|O(1)\t   |O(n log n)\t** \n",
    "## Set (Hash Map)\tO(1)\t|O(1)  |  O(1)\t |O(n log n)\t** \n",
    "* Get: Find an item in the structure\n",
    "* Set: Set a key in set/dictionary or add node to tree\n",
    "* Delete: Remove a key or node\n",
    "* Ordered Keys: Get list of keys in sorted order\n",
    "* Memory: Relative to data, how much memory is used?\n",
    "\n",
    "ref https://fellowship.hackbrightacademy.com/materials/ft25a/lectures/compsci-data-structures-2/"
   ]
  },
  {
   "cell_type": "markdown",
   "metadata": {},
   "source": [
    "# Trees\n",
    "Finding a node given a value<br>\n",
    "O(n)<br>\n",
    "Adding a node to another<br>\n",
    "O(1)<br>\n",
    "Removing a node from another<br>\n",
    "O(1)<br>\n",
    "Getting list of keys<br>\n",
    "O(n)<br>\n",
    "\n",
    "Of course, we don’t really use trees for storing of unordered data — when you add a person to an org chart, you want to add them in the right place — so you may need to find the boss of the person you want to add. If you have to find Balloonicorn so you can give her another employees, that makes adding a person to an org chart O(n). If you already have a pointer to the Balloonicorn node, though, adding to her subordinates is O(1)."
   ]
  },
  {
   "cell_type": "markdown",
   "metadata": {},
   "source": [
    "## Binary Search Tree\n",
    "\n",
    "Q: What’s the runtime of searching a BST for a value?<br>\n",
    "\n",
    "A: O(log n)<br>\n",
    "\n",
    "Each step divides # of possibilities left by 2<br>\n",
    "Q: Getting list of keys in order<br>\n",
    "A: O(n)\n",
    "Q: Adding/deleting node to BST<br>\n",
    "A: O(log n)<br>\n",
    "\n",
    "For a binary search tree to have O(log n) searching, adding, and deleting, the tree needs to be balanced (a perfectly imbalanced tree would be O(n) for searching, adding, and deleting, which is much worse).\n",
    "\n",
    "There are types of binary search trees which can keep themselves in balance, such as an AVL Tree. The algorithms for this are a bit complicated, but are interesting reading for people who want a deeper dive."
   ]
  },
  {
   "cell_type": "markdown",
   "metadata": {},
   "source": [
    "## Comparing Mapping Structures\n",
    "### Mapping Structures\n",
    "Data Structure\tGet\tAdd\tDelete\tOrdered Keys\tMemory ,<br>\n",
    "Dictionary (Hash Map)\tO(1)\tO(1)\tO(1)\tO(n log n)\t** <br>\n",
    "Set (Hash Map)\tO(1)\tO(1)\tO(1)\tO(n log n)\t**<br>\n",
    "Binary Search Tree\tO(log n)\tO(log n)\tO(log n)\tO(n)\t*<br>\n",
    "Tree\tO(n)\tO(1)\tO(1)\tO(n)\t*\n",
    "\n",
    "* Generally: prefer dicts over BSTs\n",
    "Except where data doesn’t change & memory is important\n",
    "Or where you need to get ordered keys often\n",
    "* Non-binary trees are for hierarchical data\n",
    "Often there’s a tradeoff between speed and memory:\n",
    "\n",
    "## Lists, LL, Doubley LL\n",
    "### Performance Characteristics\n",
    "Data Structure Index Search Add-L Add-R Pop-L Pop-R <br>\n",
    "Linked List O(n) O(n) O(1) O(1) O(1) O(n) <br>\n",
    "Doubly-Linked List O(n) O(n) O(1) O(1) O(1) O(1)<br>"
   ]
  },
  {
   "cell_type": "markdown",
   "metadata": {},
   "source": [
    "### Queue\n",
    "Add to end, remove from start<br>\n",
    "implimented by => Linked List, DLL<br>\n",
    "Arrays are O(n) for Pop-L\n",
    "\n",
    "### Stack\n",
    "Add to end, remove from end<br>\n",
    "implimented by => Any (LL,BLL,List) <br>\n",
    "But there’s a trick for using LL\n",
    "#### Implementing a Stack with a Singly-Linked List\n",
    "\n",
    "It’s inefficient to use a singly-linked list as a stack, as, when you pop from the end, you can’t efficiently get to the item-before-that to make it the tail. To get around this, you can either use a doubly-linked list, or you can keep the stack “reversed” – so when you push onto the stack, you push onto the head and pop off from the head, rather than the tail. Then, both push and pop can be O(1) operations for a singly-linked list.\n",
    "\n",
    "### Deque (add to either end, pop from either end)\n",
    "add to either end, pop from either end <br>\n",
    "implimented by => DLL <br>\n",
    "### Data Structure\tIndex\tSearch\tAdd-R\tAdd-L\tPop-L\tPop-R\n",
    "Python List (Array)\tO(1)\tO(n)\tO(1)\tO(n)\tO(n)\tO(1)<br>\n",
    "Linked List\tO(n)\tO(n)\tO(1)\tO(1)\tO(1)\tO(n)<br>\n",
    "Doubly-Linked List\tO(n)\tO(n)\tO(1)\tO(1)\tO(1)\tO(1)<br>\n",
    "Queue (as Array)\t-\t-\tO(1)\t-\tO(n)\t-<br>\n",
    "Queue (as LL or DLL)\t-\t-\tO(1)\t-\tO(1)\t-<br>\n",
    "Stack (as Array, LL, or DLL)\t-\t-\tO(1)\t-\t-\tO(1)<br>\n",
    "Deque (as DLL)\t-\t-\tO(1)\tO(1)\tO(1)\tO(1)<br>\n",
    "\n"
   ]
  },
  {
   "cell_type": "code",
   "execution_count": null,
   "metadata": {},
   "outputs": [],
   "source": []
  }
 ],
 "metadata": {
  "kernelspec": {
   "display_name": "Python 3",
   "language": "python",
   "name": "python3"
  },
  "language_info": {
   "codemirror_mode": {
    "name": "ipython",
    "version": 3
   },
   "file_extension": ".py",
   "mimetype": "text/x-python",
   "name": "python",
   "nbconvert_exporter": "python",
   "pygments_lexer": "ipython3",
   "version": "3.7.1"
  }
 },
 "nbformat": 4,
 "nbformat_minor": 2
}
